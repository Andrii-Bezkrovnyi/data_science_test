{
 "cells": [
  {
   "cell_type": "code",
   "execution_count": 1,
   "id": "8b4b0a4f7dc80e45",
   "metadata": {
    "ExecuteTime": {
     "end_time": "2025-01-23T18:48:03.861591Z",
     "start_time": "2025-01-23T18:48:03.853592Z"
    }
   },
   "outputs": [],
   "source": [
    "import subprocess"
   ]
  },
  {
   "cell_type": "code",
   "execution_count": 2,
   "id": "b20e7d49f188c93c",
   "metadata": {},
   "outputs": [
    {
     "name": "stdout",
     "output_type": "stream",
     "text": [
      "Запуск скрипта для создания датасета: dataset_creation.ipynb\n",
      "Датасет создан.\n"
     ]
    }
   ],
   "source": [
    "# At this stage, a BIO-annotated dataset is created.\n",
    "print(\"Running the script to create a dataset: dataset_creation.ipynb\")\n",
    "subprocess.run([\n",
    "    \"jupyter\", \n",
    "    \"nbconvert\", \n",
    "    \"--to\", \"notebook\", \n",
    "    \"--execute\", \n",
    "    \"--inplace\", \n",
    "    \"dataset_creation.ipynb\"\n",
    "])\n",
    "print(\"Dataset is created.\")"
   ]
  },
  {
   "cell_type": "code",
   "execution_count": null,
   "id": "initial_id",
   "metadata": {
    "ExecuteTime": {
     "end_time": "2025-01-23T19:23:21.288736Z",
     "start_time": "2025-01-23T19:23:21.268864Z"
    }
   },
   "outputs": [],
   "source": [
    "from model_training import load_and_prepare_data, prepare_data, train_model\n",
    "from inference import run_inference"
   ]
  },
  {
   "cell_type": "code",
   "execution_count": null,
   "id": "eab45375e46021bb",
   "metadata": {},
   "outputs": [],
   "source": [
    "# Loading and preparing data\n",
    "df = load_and_prepare_data(\"processed_mountain_data.csv\")\n",
    "\n",
    "# Preparing data for the model\n",
    "dataset = prepare_data(df)\n",
    "\n",
    "# Splitting data into training and testing\n",
    "train_test_split = dataset.train_test_split(test_size=0.2, seed=42)\n",
    "train_dataset = train_test_split[\"train\"]\n",
    "test_dataset = train_test_split[\"test\"]\n",
    "\n",
    "# Training the model\n",
    "model, tokenizer = train_model(train_dataset, test_dataset)"
   ]
  },
  {
   "cell_type": "code",
   "execution_count": null,
   "id": "f793a490c493979f",
   "metadata": {},
   "outputs": [],
   "source": [
    "# You can use the trained model for predictions or further work\n",
    "# For example, you can use the model for inference\n",
    "text = \"Mount Everest is the highest peak in the world, and K2 is also very famous.\"\n",
    "\n",
    "# Running inference\n",
    "entities = run_inference(text)\n",
    "\n",
    "# Printing the entities\n",
    "print(entities)\n"
   ]
  },
  {
   "cell_type": "code",
   "execution_count": null,
   "id": "9587d49659cc18e9",
   "metadata": {},
   "outputs": [],
   "source": []
  }
 ],
 "metadata": {
  "kernelspec": {
   "display_name": "Python 3 (ipykernel)",
   "language": "python",
   "name": "python3"
  },
  "language_info": {
   "codemirror_mode": {
    "name": "ipython",
    "version": 3
   },
   "file_extension": ".py",
   "mimetype": "text/x-python",
   "name": "python",
   "nbconvert_exporter": "python",
   "pygments_lexer": "ipython3",
   "version": "3.12.3"
  }
 },
 "nbformat": 4,
 "nbformat_minor": 5
}
