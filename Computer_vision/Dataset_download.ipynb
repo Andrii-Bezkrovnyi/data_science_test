{
 "cells": [
  {
   "cell_type": "markdown",
   "id": "861f4c25-10a6-402c-89fc-cfcd27e8094a",
   "metadata": {},
   "source": [
    "Task #2 - dataset creation"
   ]
  },
  {
   "cell_type": "markdown",
   "id": "82cd1e61-5974-4726-a028-16d72c056f5f",
   "metadata": {},
   "source": [
    "Enter in the project directory via console and create venv:\n",
    "\n",
    "python -m venv venv\n",
    "\n",
    "Enter to the venv (in Windows):\n",
    "env\\Scripts\\activate"
   ]
  },
  {
   "cell_type": "markdown",
   "id": "5eeb01ad-73b5-4bcd-9748-a3fda768a429",
   "metadata": {},
   "source": [
    "Install kagglehub to venv via command:\n",
    "pip install kagglehub"
   ]
  },
  {
   "cell_type": "markdown",
   "id": "f43b7bfd-ae2c-4f1b-aa26-1c3cd55481b1",
   "metadata": {},
   "source": [
    "Download zip file with dataset to the project directory via command in the console:\n",
    "kaggle datasets download isaienkov/deforestation-in-ukraine"
   ]
  },
  {
   "cell_type": "code",
   "execution_count": 4,
   "id": "34c12724-0c47-4779-9416-c4912eb3d283",
   "metadata": {},
   "outputs": [],
   "source": [
    "import zipfile"
   ]
  },
  {
   "cell_type": "code",
   "execution_count": null,
   "id": "90fad10a-db5f-40b8-88dc-23ce235bdd40",
   "metadata": {},
   "outputs": [],
   "source": [
    "# Extract the dataset\n",
    "path_of_zip_file = \"deforestation-in-ukraine.zip\" # Here is the path of  zip file with dataset\n",
    "extract_files = \"data/deforestation-in-ukraine\"\n",
    "\n",
    "# Extraction of all files to new directory\n",
    "with zipfile.ZipFile(path_of_zip_file, 'r') as zip_dataset:\n",
    "    zip_dataset.extractall(extract_files)\n",
    "\n",
    "print(\"Files are extracted.\")"
   ]
  },
  {
   "cell_type": "code",
   "execution_count": null,
   "id": "e9985e11-f25c-4ef5-821d-fb45317d0942",
   "metadata": {},
   "outputs": [],
   "source": []
  }
 ],
 "metadata": {
  "kernelspec": {
   "display_name": "Python 3 (ipykernel)",
   "language": "python",
   "name": "python3"
  },
  "language_info": {
   "codemirror_mode": {
    "name": "ipython",
    "version": 3
   },
   "file_extension": ".py",
   "mimetype": "text/x-python",
   "name": "python",
   "nbconvert_exporter": "python",
   "pygments_lexer": "ipython3",
   "version": "3.12.3"
  }
 },
 "nbformat": 4,
 "nbformat_minor": 5
}
