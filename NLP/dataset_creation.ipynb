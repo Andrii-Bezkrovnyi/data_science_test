{
 "cells": [
  {
   "cell_type": "code",
   "id": "initial_id",
   "metadata": {
    "collapsed": true,
    "execution": {
     "iopub.execute_input": "2025-01-23T19:26:24.006813Z",
     "iopub.status.busy": "2025-01-23T19:26:24.006813Z",
     "iopub.status.idle": "2025-01-23T19:26:24.010385Z",
     "shell.execute_reply": "2025-01-23T19:26:24.010385Z"
    },
    "ExecuteTime": {
     "end_time": "2025-01-23T19:46:05.883370Z",
     "start_time": "2025-01-23T19:46:05.870040Z"
    }
   },
   "source": [
    "# !pip install -r requirements.txt"
   ],
   "outputs": [],
   "execution_count": 10
  },
  {
   "cell_type": "code",
   "id": "bbcd951e144a1ffd",
   "metadata": {
    "execution": {
     "iopub.execute_input": "2025-01-23T19:26:24.013309Z",
     "iopub.status.busy": "2025-01-23T19:26:24.012268Z",
     "iopub.status.idle": "2025-01-23T19:26:25.793874Z",
     "shell.execute_reply": "2025-01-23T19:26:25.793874Z"
    },
    "ExecuteTime": {
     "end_time": "2025-01-23T19:49:11.255504Z",
     "start_time": "2025-01-23T19:49:11.241927Z"
    }
   },
   "source": "# !pip show torch transformers pandas",
   "outputs": [],
   "execution_count": 24
  },
  {
   "cell_type": "code",
   "id": "6c04e03cecff8976",
   "metadata": {
    "execution": {
     "iopub.execute_input": "2025-01-23T19:26:25.795998Z",
     "iopub.status.busy": "2025-01-23T19:26:25.795998Z",
     "iopub.status.idle": "2025-01-23T19:26:26.598285Z",
     "shell.execute_reply": "2025-01-23T19:26:26.597681Z"
    },
    "ExecuteTime": {
     "end_time": "2025-01-23T19:48:58.959117Z",
     "start_time": "2025-01-23T19:48:58.939645Z"
    }
   },
   "source": [
    "import pandas as pd\n",
    "from sklearn.model_selection import train_test_split"
   ],
   "outputs": [],
   "execution_count": 23
  },
  {
   "cell_type": "code",
   "id": "bc3d192ab238f282",
   "metadata": {
    "execution": {
     "iopub.execute_input": "2025-01-23T19:26:26.601333Z",
     "iopub.status.busy": "2025-01-23T19:26:26.600391Z",
     "iopub.status.idle": "2025-01-23T19:26:26.604357Z",
     "shell.execute_reply": "2025-01-23T19:26:26.604357Z"
    },
    "ExecuteTime": {
     "end_time": "2025-01-23T19:46:10.006201Z",
     "start_time": "2025-01-23T19:46:09.992093Z"
    }
   },
   "source": [
    "# Test sentences generate via ChatGPT\n",
    "sentences = [\n",
    "    \"The Himalayas are a majestic mountain range in Asia.\",\n",
    "    \"Denali, formerly known as Mount McKinley, is the highest peak in North America.\",\n",
    "    \"The Andes run through several South American countries, including Chile and Peru.\",\n",
    "    \"The Rocky Mountains are a famous range in North America, stretching from Canada to New Mexico.\",\n",
    "    \"Mount Everest is the largest peak in the world.\",\n",
    "    \"K2 is known as the Savage Mountain.\",\n",
    "    \"The Alps are famous for their breathtaking landscapes and winter sports.\",\n",
    "    \"Mount Godwin-Austen , often called K2 , is a challenging peak to climb.\",\n",
    "    \"Climbers from around the world gather to ascend Mount Everest each year.\",\n",
    "    \"Mount Kilimanjaro is located in Tanzania and is Africa's highest peak.\",\n",
    "    \"Mount Fuji is a sacred mountain in Japan and a popular tourist attraction.\",\n",
    "    \"The Pyrenees form a natural border between Spain and France.\",\n",
    "    \"Climbers dream of reaching the summit of Mount Elbrus, the highest peak in Europe.\",\n",
    "    \"The Karakoram range, home to K2 , is renowned for its rugged terrain and high peaks.\",\n",
    "    \"Aconcagua is the tallest mountain in South America and is part of the Andes.\"\n",
    "]"
   ],
   "outputs": [],
   "execution_count": 13
  },
  {
   "cell_type": "code",
   "id": "e8df3096149cfbcb",
   "metadata": {
    "execution": {
     "iopub.execute_input": "2025-01-23T19:26:26.607435Z",
     "iopub.status.busy": "2025-01-23T19:26:26.606481Z",
     "iopub.status.idle": "2025-01-23T19:26:26.609638Z",
     "shell.execute_reply": "2025-01-23T19:26:26.609638Z"
    },
    "ExecuteTime": {
     "end_time": "2025-01-23T19:46:10.747507Z",
     "start_time": "2025-01-23T19:46:10.742994Z"
    }
   },
   "source": [
    "# List of famous mountain names\n",
    "mountain_names = [\n",
    "    \"Mount Everest\", \"K2\", \"The Alps\", \"Mount Godwin-Austen\", \"Savage Mountain\", \"Mount Kilimanjaro\", \n",
    "    \"Himalayas\", \"Denali\", \"Mount McKinley\", \"Andes\", \"Rocky Mountains\", \"Mount Fuji\", \n",
    "    \"Pyrenees\", \"Mount Elbrus\", \"Karakoram Range\", \"Aconcagua\", \"Karakoram\"\n",
    "]"
   ],
   "outputs": [],
   "execution_count": 14
  },
  {
   "cell_type": "code",
   "id": "f877235f86eb5b18",
   "metadata": {
    "execution": {
     "iopub.execute_input": "2025-01-23T19:26:26.611645Z",
     "iopub.status.busy": "2025-01-23T19:26:26.611645Z",
     "iopub.status.idle": "2025-01-23T19:26:26.616459Z",
     "shell.execute_reply": "2025-01-23T19:26:26.616459Z"
    },
    "ExecuteTime": {
     "end_time": "2025-01-23T19:46:11.103569Z",
     "start_time": "2025-01-23T19:46:11.095140Z"
    }
   },
   "source": [
    "def create_bio_tags(sentences, mountain_names):\n",
    "    bio_dataset = []\n",
    "    for sentence in sentences:\n",
    "        words = sentence.split()  # Simple tokenization (by spaces)\n",
    "        labels = [\"O\"] * len(words)  # Default label is \"O\" (Outside)\n",
    "\n",
    "        # For each mountain name we check it in the text\n",
    "        for mountain in mountain_names:\n",
    "            mountain_tokens = mountain.split()  # Tokenizing the mountain name\n",
    "            for i in range(len(words) - len(mountain_tokens) + 1):\n",
    "                if words[i:i+len(mountain_tokens)] == mountain_tokens:\n",
    "                    labels[i] = \"B-MOUNTAIN\"  # The first part of the mountain's name\n",
    "                    for j in range(1, len(mountain_tokens)):\n",
    "                        labels[i+j] = \"I-MOUNTAIN\"  # The rest of the mountain's name\n",
    "\n",
    "        bio_dataset.append(list(zip(words, labels)))\n",
    "    return bio_dataset"
   ],
   "outputs": [],
   "execution_count": 15
  },
  {
   "cell_type": "code",
   "id": "6f34398a2eb584d5",
   "metadata": {
    "execution": {
     "iopub.execute_input": "2025-01-23T19:26:26.619508Z",
     "iopub.status.busy": "2025-01-23T19:26:26.619508Z",
     "iopub.status.idle": "2025-01-23T19:26:26.623947Z",
     "shell.execute_reply": "2025-01-23T19:26:26.622991Z"
    },
    "ExecuteTime": {
     "end_time": "2025-01-23T19:46:11.662969Z",
     "start_time": "2025-01-23T19:46:11.642414Z"
    }
   },
   "source": [
    "# Creating a dataset in BIN format\n",
    "bio_dataset = create_bio_tags(sentences, mountain_names)"
   ],
   "outputs": [],
   "execution_count": 16
  },
  {
   "cell_type": "code",
   "id": "38062e0d203c514e",
   "metadata": {
    "execution": {
     "iopub.execute_input": "2025-01-23T19:26:26.625827Z",
     "iopub.status.busy": "2025-01-23T19:26:26.625827Z",
     "iopub.status.idle": "2025-01-23T19:26:26.629001Z",
     "shell.execute_reply": "2025-01-23T19:26:26.629001Z"
    },
    "ExecuteTime": {
     "end_time": "2025-01-23T19:49:26.732692Z",
     "start_time": "2025-01-23T19:49:26.720101Z"
    }
   },
   "source": [
    "# Convert to pandas DataFrame\n",
    "data = []\n",
    "for sentence in bio_dataset:\n",
    "    words, labels = zip(*sentence)\n",
    "    data.append({\"tokens\": list(words), \"tags\": list(labels)})\n",
    "\n",
    "df = pd.DataFrame(data)"
   ],
   "outputs": [],
   "execution_count": 26
  },
  {
   "cell_type": "code",
   "id": "58dafd7bc393d31",
   "metadata": {
    "execution": {
     "iopub.execute_input": "2025-01-23T19:26:26.631016Z",
     "iopub.status.busy": "2025-01-23T19:26:26.631016Z",
     "iopub.status.idle": "2025-01-23T19:26:26.634835Z",
     "shell.execute_reply": "2025-01-23T19:26:26.634835Z"
    },
    "ExecuteTime": {
     "end_time": "2025-01-23T19:49:31.014725Z",
     "start_time": "2025-01-23T19:49:31.001746Z"
    }
   },
   "source": [
    "# Converting tags to numeric values\n",
    "tag_map = {\"O\": 0, \"B-MOUNTAIN\": 1, \"I-MOUNTAIN\": 2}\n",
    "df[\"tags\"] = df[\"tags\"].apply(lambda tags: [tag_map[tag] for tag in tags])"
   ],
   "outputs": [],
   "execution_count": 27
  },
  {
   "cell_type": "code",
   "execution_count": 10,
   "id": "4c76eb6b992795d8",
   "metadata": {
    "ExecuteTime": {
     "end_time": "2025-01-23T18:24:15.125281Z",
     "start_time": "2025-01-23T18:24:15.111354Z"
    },
    "execution": {
     "iopub.execute_input": "2025-01-23T19:26:26.637369Z",
     "iopub.status.busy": "2025-01-23T19:26:26.637369Z",
     "iopub.status.idle": "2025-01-23T19:26:26.640914Z",
     "shell.execute_reply": "2025-01-23T19:26:26.640914Z"
    }
   },
   "outputs": [],
   "source": [
    "# Splitting data into training and testing sets\n",
    "train_data, test_data = train_test_split(df, test_size=0.2, random_state=42)"
   ]
  },
  {
   "cell_type": "code",
   "execution_count": 11,
   "id": "f131a6cc661d3289",
   "metadata": {
    "ExecuteTime": {
     "end_time": "2025-01-23T18:24:15.753965Z",
     "start_time": "2025-01-23T18:24:15.725560Z"
    },
    "execution": {
     "iopub.execute_input": "2025-01-23T19:26:26.643918Z",
     "iopub.status.busy": "2025-01-23T19:26:26.642918Z",
     "iopub.status.idle": "2025-01-23T19:26:26.690045Z",
     "shell.execute_reply": "2025-01-23T19:26:26.690045Z"
    }
   },
   "outputs": [
    {
     "name": "stdout",
     "output_type": "stream",
     "text": [
      "Данные сохранены в файлы:\n",
      "- Полный набор данных: processed_mountain_data.csv\n",
      "- Тренировочная выборка: train_data.csv\n",
      "- Тестовая выборка: test_data.csv\n"
     ]
    }
   ],
   "source": [
    "# Сохранение данных\n",
    "df.to_csv(\"processed_mountain_data.csv\", index=False)  # Complete data set\n",
    "train_data.to_csv(\"train_data.csv\", index=False)       # Training sample\n",
    "test_data.to_csv(\"test_data.csv\", index=False)         # Test sample\n",
    "\n",
    "print(\"Data has been saved to the following files:\")\n",
    "print(\"- Full dataset: processed_mountain_data.csv\")\n",
    "print(\"- Training set: train_data.csv\")\n",
    "print(\"- Test set: test_data.csv\")"
   ]
  },
  {
   "cell_type": "code",
   "execution_count": 19,
   "id": "2976aa815a643ca8",
   "metadata": {
    "ExecuteTime": {
     "end_time": "2025-01-23T18:24:15.954739Z",
     "start_time": "2025-01-23T18:24:15.941614Z"
    }
   },
   "outputs": [],
   "source": []
  }
 ],
 "metadata": {
  "kernelspec": {
   "display_name": "Python 3",
   "language": "python",
   "name": "python3"
  },
  "language_info": {
   "codemirror_mode": {
    "name": "ipython",
    "version": 3
   },
   "file_extension": ".py",
   "mimetype": "text/x-python",
   "name": "python",
   "nbconvert_exporter": "python",
   "pygments_lexer": "ipython3",
   "version": "3.12.3"
  }
 },
 "nbformat": 4,
 "nbformat_minor": 5
}
