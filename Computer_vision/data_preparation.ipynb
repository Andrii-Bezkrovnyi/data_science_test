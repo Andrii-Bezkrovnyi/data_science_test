{
 "cells": [
  {
   "cell_type": "markdown",
   "id": "861f4c25-10a6-402c-89fc-cfcd27e8094a",
   "metadata": {},
   "source": [
    "Task 2 prepara data"
   ]
  },
  {
   "cell_type": "code",
   "execution_count": null,
   "id": "c8676e58-a9cd-46af-9232-5512d3172cf6",
   "metadata": {},
   "outputs": [],
   "source": [
    "!pip install -r requirements.txt"
   ]
  },
  {
   "cell_type": "code",
   "execution_count": 1,
   "id": "4ec75377-3212-4a28-8346-d6aa71f26ecd",
   "metadata": {},
   "outputs": [],
   "source": [
    "import warnings\n",
    "warnings.filterwarnings('ignore')"
   ]
  },
  {
   "cell_type": "code",
   "execution_count": 2,
   "id": "7eed2248-c5a6-44d5-8699-7f0a7b1cc2f9",
   "metadata": {},
   "outputs": [],
   "source": [
    "DATASET_PATH = \"data\\deforestation-in-ukraine\\S2A_MSIL1C_20160212T084052_N0201_R064_T36UYA_20160212T084510\""
   ]
  },
  {
   "cell_type": "code",
   "execution_count": 3,
   "id": "9f287843-cf1d-4dac-80a7-48ed3683572c",
   "metadata": {},
   "outputs": [
    {
     "name": "stdout",
     "output_type": "stream",
     "text": [
      "Data for training is created\n"
     ]
    }
   ],
   "source": [
    "# data_preparation.ipynb\n",
    "import os\n",
    "import glob\n",
    "import cv2\n",
    "import numpy as np\n",
    "import rasterio\n",
    "from rasterio.plot import reshape_as_image\n",
    "\n",
    "def extract_and_preprocess_images(dataset_path, max_dimension=2048):\n",
    "    \"\"\"\n",
    "    Extract and preprocess images for training.\n",
    "\n",
    "    Args:\n",
    "        dataset_path (str): Path to the dataset.\n",
    "        max_dimension (int): Maximum dimension for resizing images.\n",
    "\n",
    "    Returns:\n",
    "        images (list): Preprocessed images as numpy arrays.\n",
    "    \"\"\"\n",
    "    pattern = os.path.join(dataset_path, '**', 'IMG_DATA', '*_TCI.jp2')\n",
    "    image_paths = glob.glob(pattern, recursive=True)\n",
    "\n",
    "    images = []\n",
    "    for image_path in image_paths:\n",
    "        # Load image using rasterio\n",
    "        with rasterio.open(image_path, \"r\", driver=\"JP2OpenJpeg\") as src:\n",
    "            image = src.read()\n",
    "            image = reshape_as_image(image)\n",
    "\n",
    "        # Resize and normalize the image\n",
    "        height, width, _ = image.shape\n",
    "        scale = max_dimension / max(height, width)\n",
    "        new_size = (int(width * scale), int(height * scale))\n",
    "        image_resized = cv2.resize(image, new_size, interpolation=cv2.INTER_CUBIC)\n",
    "        image_normalized = cv2.normalize(image_resized, None, alpha=0, beta=1,\n",
    "                                         norm_type=cv2.NORM_MINMAX, dtype=cv2.CV_32F)\n",
    "        images.append(image_normalized)\n",
    "\n",
    "    return np.array(images)\n",
    "\n",
    "def save_dataset(images, save_path):\n",
    "    \"\"\"\n",
    "    Save the dataset as a NumPy file for training.\n",
    "\n",
    "    Args:\n",
    "        images (numpy array): Array of images.\n",
    "        save_path (str): Path to save the dataset.\n",
    "    \"\"\"\n",
    "    np.save(save_path, images)\n",
    "\n",
    "# Prepare and save the dataset\n",
    "images = extract_and_preprocess_images(DATASET_PATH)\n",
    "save_dataset(images, \"prepared_dataset.npy\")\n",
    "print(\"Data for training is created\")"
   ]
  },
  {
   "cell_type": "code",
   "execution_count": null,
   "id": "787560aa-4fa0-427c-9d69-1ed0ecebe47b",
   "metadata": {},
   "outputs": [],
   "source": []
  }
 ],
 "metadata": {
  "kernelspec": {
   "display_name": "Python 3 (ipykernel)",
   "language": "python",
   "name": "python3"
  },
  "language_info": {
   "codemirror_mode": {
    "name": "ipython",
    "version": 3
   },
   "file_extension": ".py",
   "mimetype": "text/x-python",
   "name": "python",
   "nbconvert_exporter": "python",
   "pygments_lexer": "ipython3",
   "version": "3.12.3"
  }
 },
 "nbformat": 4,
 "nbformat_minor": 5
}
